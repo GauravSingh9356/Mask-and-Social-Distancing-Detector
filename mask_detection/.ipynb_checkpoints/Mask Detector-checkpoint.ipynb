{
 "cells": [
  {
   "cell_type": "code",
   "execution_count": 1,
   "metadata": {},
   "outputs": [],
   "source": [
    "import tensorflow as tf"
   ]
  },
  {
   "cell_type": "code",
   "execution_count": 2,
   "metadata": {},
   "outputs": [
    {
     "name": "stderr",
     "output_type": "stream",
     "text": [
      "Using TensorFlow backend.\n"
     ]
    }
   ],
   "source": [
    "from keras.preprocessing.image import ImageDataGenerator\n",
    "from keras.callbacks import ModelCheckpoint\n",
    "import matplotlib.pyplot as plt"
   ]
  },
  {
   "cell_type": "code",
   "execution_count": 3,
   "metadata": {},
   "outputs": [
    {
     "name": "stdout",
     "output_type": "stream",
     "text": [
      "Found 3649 images belonging to 2 classes.\n"
     ]
    },
    {
     "data": {
      "text/plain": [
       "{'with_mask': 0, 'without_mask': 1}"
      ]
     },
     "execution_count": 3,
     "metadata": {},
     "output_type": "execute_result"
    }
   ],
   "source": [
    "train_datagen = ImageDataGenerator(\n",
    "rescale=1/255,\n",
    "    rotation_range=40,\n",
    "    width_shift_range=0.2,\n",
    "    height_shift_range=0.2,\n",
    "    shear_range=0.2,\n",
    "    zoom_range=0.2,\n",
    "    horizontal_flip=True,\n",
    "    fill_mode=\"nearest\"\n",
    ")\n",
    "\n",
    "training_data = train_datagen.flow_from_directory(\"./train\", \n",
    "                                                 target_size=(200,200),\n",
    "                                                  batch_size=128,\n",
    "                                                  class_mode=\"binary\"\n",
    "                                                 )\n",
    "training_data.class_indices"
   ]
  },
  {
   "cell_type": "code",
   "execution_count": 4,
   "metadata": {},
   "outputs": [
    {
     "name": "stdout",
     "output_type": "stream",
     "text": [
      "Found 806 images belonging to 2 classes.\n"
     ]
    }
   ],
   "source": [
    "test_datagen = ImageDataGenerator(\n",
    "rescale=1/255,\n",
    "   \n",
    ")\n",
    "\n",
    "test_data = test_datagen.flow_from_directory(\"./valid\", \n",
    "                                                 target_size=(200,200),\n",
    "                                                  batch_size=128,\n",
    "                                                  class_mode=\"binary\"\n",
    "                                                 )"
   ]
  },
  {
   "cell_type": "code",
   "execution_count": 5,
   "metadata": {},
   "outputs": [],
   "source": [
    "model_path = \"predictor.tf\"\n",
    "checkpoint = ModelCheckpoint(model_path, monitor=\"val_accuracy\", verbose=1, save_best_only=True, mode=\"max\")\n",
    "callbacks_list = [checkpoint]"
   ]
  },
  {
   "cell_type": "code",
   "execution_count": 6,
   "metadata": {},
   "outputs": [],
   "source": [
    "cnn = tf.keras.models.Sequential()\n",
    "cnn.add(tf.keras.layers.Conv2D(filters=32, kernel_size=5, activation=\"relu\",input_shape=[200,200,3] ))\n",
    "cnn.add(tf.keras.layers.MaxPool2D(pool_size = 4, strides=4))\n",
    "\n",
    "cnn.add(tf.keras.layers.Conv2D(filters=64, kernel_size=4, activation=\"relu\" ))\n",
    "cnn.add(tf.keras.layers.MaxPool2D(pool_size = 3, strides=3))\n",
    "\n",
    "\n",
    "cnn.add(tf.keras.layers.Conv2D(filters=128, kernel_size=3, activation=\"relu\" ))\n",
    "cnn.add(tf.keras.layers.MaxPool2D(pool_size = 2, strides=2))\n",
    "\n",
    "\n",
    "cnn.add(tf.keras.layers.Conv2D(filters=256, kernel_size=2, activation=\"relu\" ))\n",
    "cnn.add(tf.keras.layers.MaxPool2D(pool_size = 2, strides=2))\n",
    "\n"
   ]
  },
  {
   "cell_type": "code",
   "execution_count": 7,
   "metadata": {},
   "outputs": [],
   "source": [
    "cnn.add(tf.keras.layers.Dropout(0.5))\n",
    "cnn.add(tf.keras.layers.Flatten())"
   ]
  },
  {
   "cell_type": "code",
   "execution_count": 8,
   "metadata": {},
   "outputs": [],
   "source": [
    "cnn.add(tf.keras.layers.Dense(units= 128, activation=\"relu\"))\n",
    "cnn.add(tf.keras.layers.Dropout(0.1))"
   ]
  },
  {
   "cell_type": "code",
   "execution_count": 9,
   "metadata": {},
   "outputs": [],
   "source": [
    "cnn.add(tf.keras.layers.Dense(units = 256, activation=\"relu\"))\n",
    "cnn.add(tf.keras.layers.Dropout(0.25))"
   ]
  },
  {
   "cell_type": "code",
   "execution_count": 10,
   "metadata": {},
   "outputs": [],
   "source": [
    "cnn.add(tf.keras.layers.Dense(units = 2, activation=\"softmax\"))"
   ]
  },
  {
   "cell_type": "code",
   "execution_count": 11,
   "metadata": {},
   "outputs": [],
   "source": [
    "cnn.compile(optimizer=\"adam\", loss=\"sparse_categorical_crossentropy\", metrics=[\"accuracy\"])"
   ]
  },
  {
   "cell_type": "code",
   "execution_count": 13,
   "metadata": {},
   "outputs": [
    {
     "name": "stderr",
     "output_type": "stream",
     "text": [
      "C:\\Users\\gs935\\anaconda3\\lib\\site-packages\\PIL\\Image.py:932: UserWarning: Palette images with Transparency expressed in bytes should be converted to RGBA images\n",
      "  \"Palette images with Transparency expressed in bytes should be \"\n"
     ]
    },
    {
     "name": "stdout",
     "output_type": "stream",
     "text": [
      "Train for 29 steps, validate for 7 steps\n",
      "Epoch 1/50\n"
     ]
    },
    {
     "name": "stderr",
     "output_type": "stream",
     "text": [
      "C:\\Users\\gs935\\anaconda3\\lib\\site-packages\\PIL\\Image.py:932: UserWarning: Palette images with Transparency expressed in bytes should be converted to RGBA images\n",
      "  \"Palette images with Transparency expressed in bytes should be \"\n"
     ]
    },
    {
     "name": "stdout",
     "output_type": "stream",
     "text": [
      "28/29 [===========================>..] - ETA: 4s - loss: 0.5980 - accuracy: 0.6649\n",
      "Epoch 00001: val_accuracy improved from -inf to 0.88586, saving model to predictor.tf\n",
      "WARNING:tensorflow:From C:\\Users\\gs935\\anaconda3\\lib\\site-packages\\tensorflow_core\\python\\ops\\resource_variable_ops.py:1781: calling BaseResourceVariable.__init__ (from tensorflow.python.ops.resource_variable_ops) with constraint is deprecated and will be removed in a future version.\n",
      "Instructions for updating:\n",
      "If using Keras pass *_constraint arguments to layers.\n",
      "INFO:tensorflow:Assets written to: predictor.tf\\assets\n",
      "29/29 [==============================] - 141s 5s/step - loss: 0.5945 - accuracy: 0.6670 - val_loss: 0.3444 - val_accuracy: 0.8859\n",
      "Epoch 2/50\n",
      "28/29 [===========================>..] - ETA: 3s - loss: 0.4658 - accuracy: 0.8140\n",
      "Epoch 00002: val_accuracy did not improve from 0.88586\n",
      "29/29 [==============================] - 107s 4s/step - loss: 0.4682 - accuracy: 0.8131 - val_loss: 0.2986 - val_accuracy: 0.8772\n",
      "Epoch 3/50\n",
      "28/29 [===========================>..] - ETA: 3s - loss: 0.3339 - accuracy: 0.8767\n",
      "Epoch 00003: val_accuracy improved from 0.88586 to 0.92308, saving model to predictor.tf\n",
      "INFO:tensorflow:Assets written to: predictor.tf\\assets\n",
      "29/29 [==============================] - 113s 4s/step - loss: 0.3330 - accuracy: 0.8775 - val_loss: 0.2232 - val_accuracy: 0.9231\n",
      "Epoch 4/50\n",
      "28/29 [===========================>..] - ETA: 3s - loss: 0.3044 - accuracy: 0.8872\n",
      "Epoch 00004: val_accuracy improved from 0.92308 to 0.93921, saving model to predictor.tf\n",
      "INFO:tensorflow:Assets written to: predictor.tf\\assets\n",
      "29/29 [==============================] - 111s 4s/step - loss: 0.3014 - accuracy: 0.8887 - val_loss: 0.1924 - val_accuracy: 0.9392\n",
      "Epoch 5/50\n",
      "28/29 [===========================>..] - ETA: 3s - loss: 0.2764 - accuracy: 0.8909\n",
      "Epoch 00005: val_accuracy improved from 0.93921 to 0.94169, saving model to predictor.tf\n",
      "INFO:tensorflow:Assets written to: predictor.tf\\assets\n",
      "29/29 [==============================] - 117s 4s/step - loss: 0.2772 - accuracy: 0.8904 - val_loss: 0.1702 - val_accuracy: 0.9417\n",
      "Epoch 6/50\n",
      "28/29 [===========================>..] - ETA: 3s - loss: 0.2611 - accuracy: 0.8990\n",
      "Epoch 00006: val_accuracy improved from 0.94169 to 0.94913, saving model to predictor.tf\n",
      "INFO:tensorflow:Assets written to: predictor.tf\\assets\n",
      "29/29 [==============================] - 113s 4s/step - loss: 0.2617 - accuracy: 0.8983 - val_loss: 0.1558 - val_accuracy: 0.9491\n",
      "Epoch 7/50\n",
      "28/29 [===========================>..] - ETA: 3s - loss: 0.2414 - accuracy: 0.9120\n",
      "Epoch 00007: val_accuracy did not improve from 0.94913\n",
      "29/29 [==============================] - 111s 4s/step - loss: 0.2417 - accuracy: 0.9118 - val_loss: 0.1607 - val_accuracy: 0.9417\n",
      "Epoch 8/50\n",
      "28/29 [===========================>..] - ETA: 3s - loss: 0.2398 - accuracy: 0.9120\n",
      "Epoch 00008: val_accuracy did not improve from 0.94913\n",
      "29/29 [==============================] - 108s 4s/step - loss: 0.2377 - accuracy: 0.9123 - val_loss: 0.1898 - val_accuracy: 0.9404\n",
      "Epoch 9/50\n",
      "28/29 [===========================>..] - ETA: 3s - loss: 0.2320 - accuracy: 0.9165\n",
      "Epoch 00009: val_accuracy improved from 0.94913 to 0.95161, saving model to predictor.tf\n",
      "INFO:tensorflow:Assets written to: predictor.tf\\assets\n",
      "29/29 [==============================] - 112s 4s/step - loss: 0.2334 - accuracy: 0.9148 - val_loss: 0.1296 - val_accuracy: 0.9516\n",
      "Epoch 10/50\n",
      "28/29 [===========================>..] - ETA: 3s - loss: 0.2216 - accuracy: 0.9245\n",
      "Epoch 00010: val_accuracy improved from 0.95161 to 0.95285, saving model to predictor.tf\n",
      "INFO:tensorflow:Assets written to: predictor.tf\\assets\n",
      "29/29 [==============================] - 115s 4s/step - loss: 0.2220 - accuracy: 0.9238 - val_loss: 0.1420 - val_accuracy: 0.9529\n",
      "Epoch 11/50\n",
      "28/29 [===========================>..] - ETA: 3s - loss: 0.2078 - accuracy: 0.9253\n",
      "Epoch 00011: val_accuracy improved from 0.95285 to 0.96030, saving model to predictor.tf\n",
      "INFO:tensorflow:Assets written to: predictor.tf\\assets\n",
      "29/29 [==============================] - 116s 4s/step - loss: 0.2078 - accuracy: 0.9252 - val_loss: 0.1240 - val_accuracy: 0.9603\n",
      "Epoch 12/50\n",
      "28/29 [===========================>..] - ETA: 3s - loss: 0.2005 - accuracy: 0.9247\n",
      "Epoch 00012: val_accuracy did not improve from 0.96030\n",
      "29/29 [==============================] - 106s 4s/step - loss: 0.2005 - accuracy: 0.9244 - val_loss: 0.1123 - val_accuracy: 0.9591\n",
      "Epoch 13/50\n",
      "28/29 [===========================>..] - ETA: 3s - loss: 0.1962 - accuracy: 0.9245\n",
      "Epoch 00013: val_accuracy did not improve from 0.96030\n",
      "29/29 [==============================] - 108s 4s/step - loss: 0.1969 - accuracy: 0.9246 - val_loss: 0.1131 - val_accuracy: 0.9578\n",
      "Epoch 14/50\n",
      "28/29 [===========================>..] - ETA: 3s - loss: 0.1867 - accuracy: 0.9327\n",
      "Epoch 00014: val_accuracy improved from 0.96030 to 0.96154, saving model to predictor.tf\n",
      "INFO:tensorflow:Assets written to: predictor.tf\\assets\n",
      "29/29 [==============================] - 120s 4s/step - loss: 0.1861 - accuracy: 0.9326 - val_loss: 0.1014 - val_accuracy: 0.9615\n",
      "Epoch 15/50\n",
      "28/29 [===========================>..] - ETA: 3s - loss: 0.1891 - accuracy: 0.9335\n",
      "Epoch 00015: val_accuracy improved from 0.96154 to 0.96898, saving model to predictor.tf\n",
      "INFO:tensorflow:Assets written to: predictor.tf\\assets\n",
      "29/29 [==============================] - 117s 4s/step - loss: 0.1883 - accuracy: 0.9329 - val_loss: 0.1015 - val_accuracy: 0.9690\n",
      "Epoch 16/50\n",
      "28/29 [===========================>..] - ETA: 3s - loss: 0.1810 - accuracy: 0.9327\n",
      "Epoch 00016: val_accuracy did not improve from 0.96898\n",
      "29/29 [==============================] - 107s 4s/step - loss: 0.1796 - accuracy: 0.9337 - val_loss: 0.0850 - val_accuracy: 0.9690\n",
      "Epoch 17/50\n",
      "28/29 [===========================>..] - ETA: 3s - loss: 0.1806 - accuracy: 0.9304\n",
      "Epoch 00017: val_accuracy did not improve from 0.96898\n",
      "29/29 [==============================] - 115s 4s/step - loss: 0.1817 - accuracy: 0.9298 - val_loss: 0.1324 - val_accuracy: 0.9454\n",
      "Epoch 18/50\n",
      "28/29 [===========================>..] - ETA: 3s - loss: 0.1899 - accuracy: 0.9318\n",
      "Epoch 00018: val_accuracy did not improve from 0.96898\n",
      "29/29 [==============================] - 121s 4s/step - loss: 0.1915 - accuracy: 0.9307 - val_loss: 0.0911 - val_accuracy: 0.9690\n",
      "Epoch 19/50\n",
      "28/29 [===========================>..] - ETA: 3s - loss: 0.1776 - accuracy: 0.9344\n",
      "Epoch 00019: val_accuracy improved from 0.96898 to 0.97270, saving model to predictor.tf\n",
      "INFO:tensorflow:Assets written to: predictor.tf\\assets\n",
      "29/29 [==============================] - 123s 4s/step - loss: 0.1784 - accuracy: 0.9342 - val_loss: 0.0865 - val_accuracy: 0.9727\n",
      "Epoch 20/50\n",
      "28/29 [===========================>..] - ETA: 3s - loss: 0.1542 - accuracy: 0.9455\n",
      "Epoch 00020: val_accuracy improved from 0.97270 to 0.97395, saving model to predictor.tf\n",
      "INFO:tensorflow:Assets written to: predictor.tf\\assets\n",
      "29/29 [==============================] - 108s 4s/step - loss: 0.1567 - accuracy: 0.9435 - val_loss: 0.0781 - val_accuracy: 0.9739\n",
      "Epoch 21/50\n",
      "28/29 [===========================>..] - ETA: 3s - loss: 0.1701 - accuracy: 0.9401\n",
      "Epoch 00021: val_accuracy did not improve from 0.97395\n",
      "29/29 [==============================] - 110s 4s/step - loss: 0.1683 - accuracy: 0.9405 - val_loss: 0.0930 - val_accuracy: 0.9677\n",
      "Epoch 22/50\n",
      "28/29 [===========================>..] - ETA: 4s - loss: 0.1560 - accuracy: 0.9438\n",
      "Epoch 00022: val_accuracy did not improve from 0.97395\n",
      "29/29 [==============================] - 121s 4s/step - loss: 0.1561 - accuracy: 0.9438 - val_loss: 0.0736 - val_accuracy: 0.9715\n",
      "Epoch 23/50\n",
      "28/29 [===========================>..] - ETA: 4s - loss: 0.1447 - accuracy: 0.9460\n",
      "Epoch 00023: val_accuracy did not improve from 0.97395\n",
      "29/29 [==============================] - 122s 4s/step - loss: 0.1441 - accuracy: 0.9466 - val_loss: 0.1127 - val_accuracy: 0.9615\n",
      "Epoch 24/50\n",
      "28/29 [===========================>..] - ETA: 3s - loss: 0.1484 - accuracy: 0.9423\n",
      "Epoch 00024: val_accuracy improved from 0.97395 to 0.97767, saving model to predictor.tf\n",
      "INFO:tensorflow:Assets written to: predictor.tf\\assets\n",
      "29/29 [==============================] - 115s 4s/step - loss: 0.1474 - accuracy: 0.9424 - val_loss: 0.0613 - val_accuracy: 0.9777\n"
     ]
    },
    {
     "name": "stdout",
     "output_type": "stream",
     "text": [
      "Epoch 25/50\n",
      "28/29 [===========================>..] - ETA: 4s - loss: 0.1659 - accuracy: 0.9341\n",
      "Epoch 00025: val_accuracy did not improve from 0.97767\n",
      "29/29 [==============================] - 123s 4s/step - loss: 0.1648 - accuracy: 0.9342 - val_loss: 0.0916 - val_accuracy: 0.9702\n",
      "Epoch 26/50\n",
      "28/29 [===========================>..] - ETA: 3s - loss: 0.1493 - accuracy: 0.9423\n",
      "Epoch 00026: val_accuracy did not improve from 0.97767\n",
      "29/29 [==============================] - 118s 4s/step - loss: 0.1493 - accuracy: 0.9424 - val_loss: 0.1048 - val_accuracy: 0.9702\n",
      "Epoch 27/50\n",
      "28/29 [===========================>..] - ETA: 3s - loss: 0.1427 - accuracy: 0.9443\n",
      "Epoch 00027: val_accuracy did not improve from 0.97767\n",
      "29/29 [==============================] - 108s 4s/step - loss: 0.1451 - accuracy: 0.9441 - val_loss: 0.0840 - val_accuracy: 0.9764\n",
      "Epoch 28/50\n",
      "28/29 [===========================>..] - ETA: 3s - loss: 0.1480 - accuracy: 0.9500\n",
      "Epoch 00028: val_accuracy did not improve from 0.97767\n",
      "29/29 [==============================] - 109s 4s/step - loss: 0.1465 - accuracy: 0.9501 - val_loss: 0.0631 - val_accuracy: 0.9777\n",
      "Epoch 29/50\n",
      "28/29 [===========================>..] - ETA: 3s - loss: 0.1435 - accuracy: 0.9423\n",
      "Epoch 00029: val_accuracy did not improve from 0.97767\n",
      "29/29 [==============================] - 109s 4s/step - loss: 0.1424 - accuracy: 0.9427 - val_loss: 0.0867 - val_accuracy: 0.9727\n",
      "Epoch 30/50\n",
      "28/29 [===========================>..] - ETA: 3s - loss: 0.1349 - accuracy: 0.9489\n",
      "Epoch 00030: val_accuracy improved from 0.97767 to 0.97891, saving model to predictor.tf\n",
      "INFO:tensorflow:Assets written to: predictor.tf\\assets\n",
      "29/29 [==============================] - 119s 4s/step - loss: 0.1342 - accuracy: 0.9490 - val_loss: 0.0661 - val_accuracy: 0.9789\n",
      "Epoch 31/50\n",
      "28/29 [===========================>..] - ETA: 3s - loss: 0.1496 - accuracy: 0.9452\n",
      "Epoch 00031: val_accuracy did not improve from 0.97891\n",
      "29/29 [==============================] - 111s 4s/step - loss: 0.1487 - accuracy: 0.9460 - val_loss: 0.0632 - val_accuracy: 0.9789\n",
      "Epoch 32/50\n",
      "28/29 [===========================>..] - ETA: 3s - loss: 0.1280 - accuracy: 0.9497\n",
      "Epoch 00032: val_accuracy did not improve from 0.97891\n",
      "29/29 [==============================] - 109s 4s/step - loss: 0.1282 - accuracy: 0.9498 - val_loss: 0.0781 - val_accuracy: 0.9777\n",
      "Epoch 33/50\n",
      "28/29 [===========================>..] - ETA: 3s - loss: 0.1106 - accuracy: 0.9588\n",
      "Epoch 00033: val_accuracy improved from 0.97891 to 0.98015, saving model to predictor.tf\n",
      "INFO:tensorflow:Assets written to: predictor.tf\\assets\n",
      "29/29 [==============================] - 108s 4s/step - loss: 0.1099 - accuracy: 0.9594 - val_loss: 0.0601 - val_accuracy: 0.9801\n",
      "Epoch 34/50\n",
      "28/29 [===========================>..] - ETA: 3s - loss: 0.1334 - accuracy: 0.9512\n",
      "Epoch 00034: val_accuracy did not improve from 0.98015\n",
      "29/29 [==============================] - 109s 4s/step - loss: 0.1313 - accuracy: 0.9520 - val_loss: 0.0780 - val_accuracy: 0.9777\n",
      "Epoch 35/50\n",
      "28/29 [===========================>..] - ETA: 3s - loss: 0.1251 - accuracy: 0.9568\n",
      "Epoch 00035: val_accuracy did not improve from 0.98015\n",
      "29/29 [==============================] - 103s 4s/step - loss: 0.1252 - accuracy: 0.9570 - val_loss: 0.0824 - val_accuracy: 0.9777\n",
      "Epoch 36/50\n",
      "28/29 [===========================>..] - ETA: 3s - loss: 0.1306 - accuracy: 0.9497\n",
      "Epoch 00036: val_accuracy did not improve from 0.98015\n",
      "29/29 [==============================] - 100s 3s/step - loss: 0.1336 - accuracy: 0.9490 - val_loss: 0.0760 - val_accuracy: 0.9739\n",
      "Epoch 37/50\n",
      "28/29 [===========================>..] - ETA: 3s - loss: 0.1142 - accuracy: 0.9580\n",
      "Epoch 00037: val_accuracy did not improve from 0.98015\n",
      "29/29 [==============================] - 99s 3s/step - loss: 0.1143 - accuracy: 0.9581 - val_loss: 0.0839 - val_accuracy: 0.9690\n",
      "Epoch 38/50\n",
      "28/29 [===========================>..] - ETA: 3s - loss: 0.1047 - accuracy: 0.9634\n",
      "Epoch 00038: val_accuracy did not improve from 0.98015\n",
      "29/29 [==============================] - 109s 4s/step - loss: 0.1040 - accuracy: 0.9636 - val_loss: 0.0669 - val_accuracy: 0.9739\n",
      "Epoch 39/50\n",
      "28/29 [===========================>..] - ETA: 3s - loss: 0.0991 - accuracy: 0.9659\n",
      "Epoch 00039: val_accuracy improved from 0.98015 to 0.98139, saving model to predictor.tf\n",
      "INFO:tensorflow:Assets written to: predictor.tf\\assets\n",
      "29/29 [==============================] - 104s 4s/step - loss: 0.0999 - accuracy: 0.9655 - val_loss: 0.0760 - val_accuracy: 0.9814\n",
      "Epoch 40/50\n",
      "28/29 [===========================>..] - ETA: 3s - loss: 0.1200 - accuracy: 0.9548\n",
      "Epoch 00040: val_accuracy did not improve from 0.98139\n",
      "29/29 [==============================] - 99s 3s/step - loss: 0.1201 - accuracy: 0.9553 - val_loss: 0.0727 - val_accuracy: 0.9739\n",
      "Epoch 41/50\n",
      "28/29 [===========================>..] - ETA: 3s - loss: 0.0992 - accuracy: 0.9634\n",
      "Epoch 00041: val_accuracy improved from 0.98139 to 0.98263, saving model to predictor.tf\n",
      "INFO:tensorflow:Assets written to: predictor.tf\\assets\n",
      "29/29 [==============================] - 112s 4s/step - loss: 0.0978 - accuracy: 0.9641 - val_loss: 0.0633 - val_accuracy: 0.9826\n",
      "Epoch 42/50\n",
      "28/29 [===========================>..] - ETA: 3s - loss: 0.1087 - accuracy: 0.9600\n",
      "Epoch 00042: val_accuracy did not improve from 0.98263\n",
      "29/29 [==============================] - 113s 4s/step - loss: 0.1107 - accuracy: 0.9597 - val_loss: 0.0707 - val_accuracy: 0.9752\n",
      "Epoch 43/50\n",
      "28/29 [===========================>..] - ETA: 4s - loss: 0.1071 - accuracy: 0.9628\n",
      "Epoch 00043: val_accuracy did not improve from 0.98263\n",
      "29/29 [==============================] - 125s 4s/step - loss: 0.1086 - accuracy: 0.9622 - val_loss: 0.0512 - val_accuracy: 0.9814\n",
      "Epoch 44/50\n",
      "28/29 [===========================>..] - ETA: 4s - loss: 0.0952 - accuracy: 0.9622\n",
      "Epoch 00044: val_accuracy did not improve from 0.98263\n",
      "29/29 [==============================] - 138s 5s/step - loss: 0.0951 - accuracy: 0.9619 - val_loss: 0.0632 - val_accuracy: 0.9739\n",
      "Epoch 45/50\n",
      "28/29 [===========================>..] - ETA: 3s - loss: 0.1104 - accuracy: 0.9577\n",
      "Epoch 00045: val_accuracy did not improve from 0.98263\n",
      "29/29 [==============================] - 115s 4s/step - loss: 0.1122 - accuracy: 0.9572 - val_loss: 0.0612 - val_accuracy: 0.9814\n",
      "Epoch 46/50\n",
      "28/29 [===========================>..] - ETA: 3s - loss: 0.0989 - accuracy: 0.9622\n",
      "Epoch 00046: val_accuracy did not improve from 0.98263\n",
      "29/29 [==============================] - 116s 4s/step - loss: 0.0970 - accuracy: 0.9627 - val_loss: 0.0644 - val_accuracy: 0.9789\n",
      "Epoch 47/50\n",
      "28/29 [===========================>..] - ETA: 3s - loss: 0.0961 - accuracy: 0.9676\n",
      "Epoch 00047: val_accuracy improved from 0.98263 to 0.98511, saving model to predictor.tf\n",
      "INFO:tensorflow:Assets written to: predictor.tf\\assets\n",
      "29/29 [==============================] - 120s 4s/step - loss: 0.0994 - accuracy: 0.9666 - val_loss: 0.0545 - val_accuracy: 0.9851\n",
      "Epoch 48/50\n",
      "28/29 [===========================>..] - ETA: 3s - loss: 0.0925 - accuracy: 0.9676\n",
      "Epoch 00048: val_accuracy did not improve from 0.98511\n",
      "29/29 [==============================] - 116s 4s/step - loss: 0.0923 - accuracy: 0.9674 - val_loss: 0.0733 - val_accuracy: 0.9826\n",
      "Epoch 49/50\n",
      "28/29 [===========================>..] - ETA: 3s - loss: 0.0971 - accuracy: 0.9662\n",
      "Epoch 00049: val_accuracy did not improve from 0.98511\n",
      "29/29 [==============================] - 118s 4s/step - loss: 0.0986 - accuracy: 0.9655 - val_loss: 0.0658 - val_accuracy: 0.9777\n",
      "Epoch 50/50\n",
      "28/29 [===========================>..] - ETA: 3s - loss: 0.0953 - accuracy: 0.9634\n",
      "Epoch 00050: val_accuracy did not improve from 0.98511\n",
      "29/29 [==============================] - 118s 4s/step - loss: 0.0954 - accuracy: 0.9630 - val_loss: 0.0581 - val_accuracy: 0.9789\n"
     ]
    },
    {
     "data": {
      "text/plain": [
       "<tensorflow.python.keras.callbacks.History at 0x18244753648>"
      ]
     },
     "execution_count": 13,
     "metadata": {},
     "output_type": "execute_result"
    }
   ],
   "source": [
    "cnn.fit(training_data, epochs=50,verbose=1, validation_data=test_data, callbacks=callbacks_list)"
   ]
  },
  {
   "cell_type": "code",
   "execution_count": 3,
   "metadata": {},
   "outputs": [],
   "source": []
  },
  {
   "cell_type": "code",
   "execution_count": 4,
   "metadata": {},
   "outputs": [],
   "source": []
  },
  {
   "cell_type": "code",
   "execution_count": null,
   "metadata": {},
   "outputs": [],
   "source": []
  },
  {
   "cell_type": "code",
   "execution_count": null,
   "metadata": {},
   "outputs": [],
   "source": []
  }
 ],
 "metadata": {
  "kernelspec": {
   "display_name": "Python 3",
   "language": "python",
   "name": "python3"
  },
  "language_info": {
   "codemirror_mode": {
    "name": "ipython",
    "version": 3
   },
   "file_extension": ".py",
   "mimetype": "text/x-python",
   "name": "python",
   "nbconvert_exporter": "python",
   "pygments_lexer": "ipython3",
   "version": "3.7.6"
  }
 },
 "nbformat": 4,
 "nbformat_minor": 4
}
